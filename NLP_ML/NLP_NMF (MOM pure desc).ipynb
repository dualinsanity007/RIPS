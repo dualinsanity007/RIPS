{
 "cells": [
  {
   "cell_type": "code",
   "execution_count": 1,
   "metadata": {},
   "outputs": [
    {
     "data": {
      "text/html": [
       "<div>\n",
       "<style scoped>\n",
       "    .dataframe tbody tr th:only-of-type {\n",
       "        vertical-align: middle;\n",
       "    }\n",
       "\n",
       "    .dataframe tbody tr th {\n",
       "        vertical-align: top;\n",
       "    }\n",
       "\n",
       "    .dataframe thead th {\n",
       "        text-align: right;\n",
       "    }\n",
       "</style>\n",
       "<table border=\"1\" class=\"dataframe\">\n",
       "  <thead>\n",
       "    <tr style=\"text-align: right;\">\n",
       "      <th></th>\n",
       "      <th>E_OCC_2d</th>\n",
       "      <th>E_OCC</th>\n",
       "      <th>E_OCC_Ttl</th>\n",
       "      <th>E_OCC_Desc</th>\n",
       "      <th>rand</th>\n",
       "    </tr>\n",
       "  </thead>\n",
       "  <tbody>\n",
       "    <tr>\n",
       "      <th>1004</th>\n",
       "      <td>23</td>\n",
       "      <td>231</td>\n",
       "      <td>senior lecturer</td>\n",
       "      <td>teaching. setting and review exam papers. in-c...</td>\n",
       "      <td>0.000057</td>\n",
       "    </tr>\n",
       "    <tr>\n",
       "      <th>854</th>\n",
       "      <td>22</td>\n",
       "      <td>222</td>\n",
       "      <td>senior staff nurse</td>\n",
       "      <td>doing a full health assessment on a client. .d...</td>\n",
       "      <td>0.000994</td>\n",
       "    </tr>\n",
       "    <tr>\n",
       "      <th>3149</th>\n",
       "      <td>11</td>\n",
       "      <td>111</td>\n",
       "      <td>civil servant</td>\n",
       "      <td>negotiate trade agreements.</td>\n",
       "      <td>0.001080</td>\n",
       "    </tr>\n",
       "    <tr>\n",
       "      <th>1274</th>\n",
       "      <td>23</td>\n",
       "      <td>236</td>\n",
       "      <td>special education teacher</td>\n",
       "      <td>teaches persons with special needs such as aut...</td>\n",
       "      <td>0.001304</td>\n",
       "    </tr>\n",
       "    <tr>\n",
       "      <th>1406</th>\n",
       "      <td>24</td>\n",
       "      <td>243</td>\n",
       "      <td>marketing specialist</td>\n",
       "      <td>managing the day to day operations of the mark...</td>\n",
       "      <td>0.001373</td>\n",
       "    </tr>\n",
       "    <tr>\n",
       "      <th>...</th>\n",
       "      <td>...</td>\n",
       "      <td>...</td>\n",
       "      <td>...</td>\n",
       "      <td>...</td>\n",
       "      <td>...</td>\n",
       "    </tr>\n",
       "    <tr>\n",
       "      <th>320</th>\n",
       "      <td>14</td>\n",
       "      <td>141</td>\n",
       "      <td>avp. operations</td>\n",
       "      <td>manage operations for a chain of restaurants. ...</td>\n",
       "      <td>0.998683</td>\n",
       "    </tr>\n",
       "    <tr>\n",
       "      <th>1760</th>\n",
       "      <td>26</td>\n",
       "      <td>265</td>\n",
       "      <td>assistant director</td>\n",
       "      <td>controls a film.s artistic and dramatic aspect...</td>\n",
       "      <td>0.999002</td>\n",
       "    </tr>\n",
       "    <tr>\n",
       "      <th>203</th>\n",
       "      <td>13</td>\n",
       "      <td>133</td>\n",
       "      <td>site lead/manager</td>\n",
       "      <td>.to manage the site team, which consists of ne...</td>\n",
       "      <td>0.999022</td>\n",
       "    </tr>\n",
       "    <tr>\n",
       "      <th>2809</th>\n",
       "      <td>36</td>\n",
       "      <td>361</td>\n",
       "      <td>preschool teacher</td>\n",
       "      <td>teach basic language. calculations and skills....</td>\n",
       "      <td>0.999310</td>\n",
       "    </tr>\n",
       "    <tr>\n",
       "      <th>3029</th>\n",
       "      <td>22</td>\n",
       "      <td>225</td>\n",
       "      <td>veterinarian</td>\n",
       "      <td>give animal medical treatment</td>\n",
       "      <td>0.999654</td>\n",
       "    </tr>\n",
       "  </tbody>\n",
       "</table>\n",
       "<p>3165 rows × 5 columns</p>\n",
       "</div>"
      ],
      "text/plain": [
       "      E_OCC_2d  E_OCC                  E_OCC_Ttl  \\\n",
       "1004        23    231            senior lecturer   \n",
       "854         22    222         senior staff nurse   \n",
       "3149        11    111              civil servant   \n",
       "1274        23    236  special education teacher   \n",
       "1406        24    243       marketing specialist   \n",
       "...        ...    ...                        ...   \n",
       "320         14    141            avp. operations   \n",
       "1760        26    265         assistant director   \n",
       "203         13    133          site lead/manager   \n",
       "2809        36    361          preschool teacher   \n",
       "3029        22    225               veterinarian   \n",
       "\n",
       "                                             E_OCC_Desc      rand  \n",
       "1004  teaching. setting and review exam papers. in-c...  0.000057  \n",
       "854   doing a full health assessment on a client. .d...  0.000994  \n",
       "3149                        negotiate trade agreements.  0.001080  \n",
       "1274  teaches persons with special needs such as aut...  0.001304  \n",
       "1406  managing the day to day operations of the mark...  0.001373  \n",
       "...                                                 ...       ...  \n",
       "320   manage operations for a chain of restaurants. ...  0.998683  \n",
       "1760  controls a film.s artistic and dramatic aspect...  0.999002  \n",
       "203   .to manage the site team, which consists of ne...  0.999022  \n",
       "2809  teach basic language. calculations and skills....  0.999310  \n",
       "3029                      give animal medical treatment  0.999654  \n",
       "\n",
       "[3165 rows x 5 columns]"
      ]
     },
     "execution_count": 1,
     "metadata": {},
     "output_type": "execute_result"
    }
   ],
   "source": [
    "import pandas as pd\n",
    "import numpy as np\n",
    "data = pd.read_csv('NUS_training_data.csv', encoding= 'unicode_escape', index_col = False)\n",
    "\n",
    "labels = data['E_OCC']\n",
    "data['rand'] = pd.Series(np.random.uniform(0,1,len(labels.index)))\n",
    "data.sort_values(by=['rand'])"
   ]
  },
  {
   "cell_type": "code",
   "execution_count": 2,
   "metadata": {},
   "outputs": [],
   "source": [
    "# Function to remove Punctuation\n",
    "\n",
    "import string\n",
    "\n",
    "def remove_punc(text):\n",
    "    text_nopunc = \"\".join([char for char in text if char not in string.punctuation])  # discard all punctuation\n",
    "    return text_nopunc\n",
    "\n",
    "data['desc_clean'] = data['E_OCC_Desc'].apply(lambda x: remove_punc(x))\n",
    "\n",
    "# data.head()"
   ]
  },
  {
   "cell_type": "code",
   "execution_count": 3,
   "metadata": {},
   "outputs": [],
   "source": [
    "# Function to Tokenize words\n",
    "\n",
    "import re\n",
    "\n",
    "def tokenise(text):\n",
    "    tokens = re.split('\\W+', text)\n",
    "    return tokens\n",
    "\n",
    "data['desc_tokenised'] = data['desc_clean'].apply(lambda x: tokenise(x.lower()))\n",
    "\n",
    "# data.head()"
   ]
  },
  {
   "cell_type": "code",
   "execution_count": 4,
   "metadata": {},
   "outputs": [
    {
     "name": "stderr",
     "output_type": "stream",
     "text": [
      "[nltk_data] Downloading package stopwords to\n",
      "[nltk_data]     C:\\Users\\Eugene\\AppData\\Roaming\\nltk_data...\n",
      "[nltk_data]   Package stopwords is already up-to-date!\n"
     ]
    }
   ],
   "source": [
    "# Function to remove stopwords\n",
    "\n",
    "import nltk\n",
    "nltk.download('stopwords')\n",
    "\n",
    "stopword = nltk.corpus.stopwords.words('english')\n",
    "\n",
    "def remove_stopwords(lst):\n",
    "    text = [word for word in lst if word not in stopword]  # Remove all stopwords\n",
    "    return text\n",
    "\n",
    "data['desc_nostop'] = data['desc_tokenised'].apply(lambda x: remove_stopwords(x))\n",
    "\n",
    "# data.head()"
   ]
  },
  {
   "cell_type": "code",
   "execution_count": 5,
   "metadata": {},
   "outputs": [
    {
     "name": "stderr",
     "output_type": "stream",
     "text": [
      "[nltk_data] Downloading package wordnet to\n",
      "[nltk_data]     C:\\Users\\Eugene\\AppData\\Roaming\\nltk_data...\n",
      "[nltk_data]   Package wordnet is already up-to-date!\n"
     ]
    }
   ],
   "source": [
    "# Lemmatizing\n",
    "\n",
    "import nltk\n",
    "nltk.download('wordnet')\n",
    "\n",
    "wn = nltk.WordNetLemmatizer()\n",
    "\n",
    "def lemmatizing(token):\n",
    "    text = [wn.lemmatize(word) for word in token]\n",
    "    return text\n",
    "\n",
    "data['desc_lemmatized'] = data['desc_nostop'].apply(lambda x: lemmatizing(x))\n",
    "\n",
    "# data"
   ]
  },
  {
   "cell_type": "code",
   "execution_count": 6,
   "metadata": {},
   "outputs": [],
   "source": [
    "def clean_text(text):\n",
    "    text = \"\".join([word.lower() for word in text if word not in string.punctuation])\n",
    "    tokens = re.split('\\W+', text)\n",
    "    text = [wn.lemmatize(word) for word in tokens if word not in stopword]\n",
    "    return text"
   ]
  },
  {
   "cell_type": "code",
   "execution_count": 7,
   "metadata": {},
   "outputs": [
    {
     "data": {
      "text/plain": [
       "0       [position, support, vice, president, residenti...\n",
       "1       [agree, develop, project, organization, scope,...\n",
       "2       [direct, control, company, operation, give, st...\n",
       "3       [responsibility, include, managing, oversq, ft...\n",
       "4       [program, director, oversees, coordination, ad...\n",
       "                              ...                        \n",
       "3160    [acting, theatre, voicing, tv, commercial, cor...\n",
       "3161                                     [assist, doctor]\n",
       "3162                              [perform, stage, event]\n",
       "3163                                     [assisting, vet]\n",
       "3164                                      [film, editing]\n",
       "Name: desc_lemmatized, Length: 3165, dtype: object"
      ]
     },
     "execution_count": 7,
     "metadata": {},
     "output_type": "execute_result"
    }
   ],
   "source": [
    "data['desc_lemmatized']"
   ]
  },
  {
   "cell_type": "code",
   "execution_count": 8,
   "metadata": {},
   "outputs": [],
   "source": [
    "# Create a list of the topic numbers we want to try\n",
    "\n",
    "topic_nums = list(np.arange(1, 68 + 1, 2))"
   ]
  },
  {
   "cell_type": "markdown",
   "metadata": {},
   "source": [
    "# Bag of Words NMF + Coherence Score"
   ]
  },
  {
   "cell_type": "code",
   "execution_count": 9,
   "metadata": {},
   "outputs": [],
   "source": [
    "from gensim.corpora import Dictionary\n",
    "\n",
    "texts = data['desc_lemmatized']\n",
    "dictionary = Dictionary(texts)\n",
    "corpus = [dictionary.doc2bow(text) for text in texts]"
   ]
  },
  {
   "cell_type": "code",
   "execution_count": 10,
   "metadata": {},
   "outputs": [],
   "source": [
    "from gensim.models.coherencemodel import CoherenceModel\n",
    "from gensim.models.nmf import Nmf\n",
    "\n",
    "# Run the nmf model and calculate the coherence score\n",
    "# for each number of topics\n",
    "coherence_scores = []\n",
    "\n",
    "for num in topic_nums:\n",
    "    nmf = Nmf(\n",
    "        corpus=corpus,\n",
    "        num_topics=num,\n",
    "        id2word=dictionary,\n",
    "        minimum_probability=0.01,\n",
    "        w_max_iter=300,\n",
    "        w_stop_condition=0.0001,\n",
    "        h_max_iter=100,\n",
    "        h_stop_condition=0.001,\n",
    "        normalize=True,\n",
    "        random_state=1\n",
    "    )\n",
    "    \n",
    "    # Run the coherence model to get the score\n",
    "    cm = CoherenceModel(\n",
    "        model=nmf,\n",
    "        texts=texts,\n",
    "        dictionary=dictionary,\n",
    "        coherence='c_v'\n",
    "    )\n",
    "    \n",
    "    coherence_scores.append(round(cm.get_coherence(), 5))"
   ]
  },
  {
   "cell_type": "code",
   "execution_count": 11,
   "metadata": {},
   "outputs": [
    {
     "name": "stdout",
     "output_type": "stream",
     "text": [
      "15\n"
     ]
    }
   ],
   "source": [
    "from operator import itemgetter\n",
    "\n",
    "# Get the number of topics with the highest coherence score\n",
    "scores = list(zip(topic_nums, coherence_scores))\n",
    "best_num_topics = sorted(scores, key=itemgetter(1), reverse=True)[0][0]\n",
    "\n",
    "print(best_num_topics)"
   ]
  },
  {
   "cell_type": "code",
   "execution_count": 12,
   "metadata": {},
   "outputs": [
    {
     "data": {
      "image/png": "[encoded data removed]",
      "text/plain": [
       "<Figure size 432x288 with 1 Axes>"
      ]
     },
     "metadata": {
      "needs_background": "light"
     },
     "output_type": "display_data"
    }
   ],
   "source": [
    "import matplotlib.pyplot as plt\n",
    "\n",
    "plt.plot(*zip(*scores))\n",
    "plt.title('Coherence Score')\n",
    "plt.xlabel('Number of Topics')\n",
    "plt.ylabel('Score')\n",
    "plt.show()"
   ]
  },
  {
   "cell_type": "markdown",
   "metadata": {},
   "source": [
    "# TF-IDF NMF"
   ]
  },
  {
   "cell_type": "code",
   "execution_count": 13,
   "metadata": {},
   "outputs": [],
   "source": [
    "from gensim import corpora, models\n",
    "\n",
    "tfidf = models.TfidfModel(corpus)\n",
    "corpus_tfidf = tfidf[corpus]"
   ]
  },
  {
   "cell_type": "code",
   "execution_count": 18,
   "metadata": {},
   "outputs": [],
   "source": [
    "from gensim.models.coherencemodel import CoherenceModel\n",
    "from gensim.models.nmf import Nmf\n",
    "\n",
    "# Run the nmf model and calculate the coherence score\n",
    "# for each number of topics\n",
    "coherence_scores = []\n",
    "\n",
    "for num in topic_nums:\n",
    "    nmf_tfidf = Nmf(corpus=corpus_tfidf,\n",
    "                    num_topics=num,\n",
    "                    id2word=dictionary,\n",
    "                    minimum_probability=0.01,\n",
    "                    w_max_iter=300,\n",
    "                    w_stop_condition=0.0001,\n",
    "                    h_max_iter=100,\n",
    "                    h_stop_condition=0.001,\n",
    "                    normalize=True,\n",
    "                    random_state=2)\n",
    "    \n",
    "    # Run the coherence model to get the score\n",
    "    cm = CoherenceModel(\n",
    "        model=nmf_tfidf,\n",
    "        texts=texts,\n",
    "        dictionary=dictionary,\n",
    "        coherence='c_v'\n",
    "    )\n",
    "    \n",
    "    coherence_scores.append(round(cm.get_coherence(), 5))"
   ]
  },
  {
   "cell_type": "code",
   "execution_count": 19,
   "metadata": {},
   "outputs": [
    {
     "name": "stdout",
     "output_type": "stream",
     "text": [
      "67\n"
     ]
    }
   ],
   "source": [
    "from operator import itemgetter\n",
    "\n",
    "# Get the number of topics with the highest coherence score\n",
    "scores = list(zip(topic_nums, coherence_scores))\n",
    "best_num_topics = sorted(scores, key=itemgetter(1), reverse=True)[0][0]\n",
    "\n",
    "print(best_num_topics)"
   ]
  },
  {
   "cell_type": "code",
   "execution_count": 20,
   "metadata": {},
   "outputs": [
    {
     "data": {
      "image/png": "[encoded data removed]",
      "text/plain": [
       "<Figure size 432x288 with 1 Axes>"
      ]
     },
     "metadata": {
      "needs_background": "light"
     },
     "output_type": "display_data"
    }
   ],
   "source": [
    "import matplotlib.pyplot as plt\n",
    "\n",
    "plt.plot(*zip(*scores))\n",
    "plt.title('Coherence Score')\n",
    "plt.xlabel('Number of Topics')\n",
    "plt.ylabel('Score')\n",
    "plt.show()"
   ]
  },
  {
   "cell_type": "code",
   "execution_count": 21,
   "metadata": {},
   "outputs": [],
   "source": [
    "nmf_tfidf = Nmf(corpus=corpus_tfidf,\n",
    "                num_topics=best_num_topics,\n",
    "                id2word=dictionary,\n",
    "                minimum_probability=0.01,\n",
    "                w_max_iter=300,\n",
    "                w_stop_condition=0.0001,\n",
    "                h_max_iter=100,\n",
    "                h_stop_condition=0.001,\n",
    "                normalize=True,\n",
    "                random_state=3)"
   ]
  },
  {
   "cell_type": "code",
   "execution_count": 22,
   "metadata": {},
   "outputs": [
    {
     "name": "stdout",
     "output_type": "stream",
     "text": [
      "Topic: 0 Word: 0.010*\"program\" + 0.008*\"centre\" + 0.008*\"region\" + 0.006*\"manage\" + 0.006*\"marketing\" + 0.005*\"retail\" + 0.005*\"asia\" + 0.005*\"east\" + 0.005*\"south\" + 0.005*\"beauty\"\n",
      "Topic: 1 Word: 0.032*\"medium\" + 0.014*\"chinese\" + 0.011*\"hard\" + 0.011*\"aspac\" + 0.008*\"drive\" + 0.007*\"digital\" + 0.007*\"research\" + 0.007*\"content\" + 0.007*\"social\" + 0.006*\"job\"\n",
      "Topic: 2 Word: 0.017*\"project\" + 0.012*\"solution\" + 0.011*\"technical\" + 0.011*\"sale\" + 0.011*\"manage\" + 0.011*\"budget\" + 0.010*\"product\" + 0.008*\"expenditure\" + 0.008*\"information\" + 0.006*\"technology\"\n",
      "Topic: 3 Word: 0.009*\"bible\" + 0.008*\"property\" + 0.007*\"help\" + 0.007*\"stakeholder\" + 0.007*\"investment\" + 0.007*\"news\" + 0.006*\"network\" + 0.006*\"client\" + 0.006*\"residential\" + 0.005*\"epn\"\n",
      "Topic: 4 Word: 0.027*\"sale\" + 0.010*\"support\" + 0.009*\"customer\" + 0.008*\"user\" + 0.008*\"vessel\" + 0.007*\"software\" + 0.007*\"technical\" + 0.006*\"delivery\" + 0.006*\"rating\" + 0.005*\"service\"\n",
      "Topic: 5 Word: 0.021*\"education\" + 0.009*\"student\" + 0.009*\"school\" + 0.007*\"quality\" + 0.007*\"sport\" + 0.006*\"grade\" + 0.006*\"coaching\" + 0.005*\"ip\" + 0.005*\"physical\" + 0.005*\"engage\"\n",
      "Topic: 6 Word: 0.019*\"church\" + 0.011*\"resident\" + 0.010*\"ministry\" + 0.009*\"youth\" + 0.007*\"time\" + 0.007*\"train\" + 0.006*\"sermon\" + 0.006*\"pastor\" + 0.006*\"training\" + 0.006*\"planning\"\n",
      "Topic: 7 Word: 0.017*\"client\" + 0.016*\"design\" + 0.015*\"staff\" + 0.011*\"student\" + 0.010*\"project\" + 0.009*\"conduct\" + 0.009*\"mathematics\" + 0.009*\"teach\" + 0.008*\"day\" + 0.008*\"manage\"\n",
      "Topic: 8 Word: 0.020*\"teaching\" + 0.013*\"year\" + 0.013*\"curriculum\" + 0.011*\"care\" + 0.009*\"teacher\" + 0.007*\"nursing\" + 0.007*\"teach\" + 0.006*\"class\" + 0.006*\"patient\" + 0.006*\"nurse\"\n",
      "Topic: 9 Word: 0.024*\"clinical\" + 0.018*\"marketing\" + 0.015*\"trial\" + 0.014*\"product\" + 0.008*\"research\" + 0.008*\"sale\" + 0.006*\"company\" + 0.006*\"brand\" + 0.005*\"testing\" + 0.005*\"consumer\"\n",
      "Topic: 10 Word: 0.019*\"safety\" + 0.010*\"student\" + 0.009*\"need\" + 0.008*\"health\" + 0.007*\"teacher\" + 0.007*\"andor\" + 0.006*\"screening\" + 0.006*\"plan\" + 0.005*\"experience\" + 0.005*\"marine\"\n",
      "Topic: 11 Word: 0.011*\"user\" + 0.010*\"treat\" + 0.010*\"weight\" + 0.009*\"diagnose\" + 0.009*\"safety\" + 0.008*\"worker\" + 0.008*\"partner\" + 0.007*\"enhance\" + 0.006*\"engineering\" + 0.006*\"help\"\n",
      "Topic: 12 Word: 0.012*\"care\" + 0.010*\"take\" + 0.009*\"service\" + 0.009*\"security\" + 0.008*\"maintaining\" + 0.008*\"provide\" + 0.008*\"risk\" + 0.007*\"legal\" + 0.006*\"application\" + 0.006*\"marketing\"\n",
      "Topic: 13 Word: 0.020*\"show\" + 0.008*\"new\" + 0.006*\"report\" + 0.006*\"target\" + 0.006*\"performer\" + 0.005*\"sourcing\" + 0.005*\"corporate\" + 0.005*\"lesson\" + 0.004*\"test\" + 0.004*\"higher\"\n",
      "Topic: 14 Word: 0.013*\"business\" + 0.011*\"news\" + 0.010*\"network\" + 0.009*\"programme\" + 0.008*\"infrastructure\" + 0.007*\"protection\" + 0.007*\"electrical\" + 0.007*\"new\" + 0.005*\"planning\" + 0.005*\"producing\"\n",
      "Topic: 15 Word: 0.015*\"security\" + 0.012*\"english\" + 0.011*\"development\" + 0.010*\"organization\" + 0.010*\"head\" + 0.009*\"overseeing\" + 0.008*\"science\" + 0.007*\"special\" + 0.007*\"resource\" + 0.007*\"division\"\n",
      "Topic: 16 Word: 0.018*\"school\" + 0.010*\"ensure\" + 0.009*\"music\" + 0.009*\"student\" + 0.008*\"child\" + 0.007*\"report\" + 0.007*\"parent\" + 0.007*\"monthly\" + 0.007*\"teach\" + 0.007*\"timely\"\n",
      "Topic: 17 Word: 0.013*\"secondary\" + 0.013*\"resident\" + 0.011*\"training\" + 0.010*\"run\" + 0.008*\"tuition\" + 0.008*\"science\" + 0.007*\"experiment\" + 0.007*\"program\" + 0.007*\"student\" + 0.005*\"etc\"\n",
      "Topic: 18 Word: 0.010*\"video\" + 0.009*\"banking\" + 0.009*\"singapore\" + 0.007*\"activity\" + 0.007*\"life\" + 0.007*\"produce\" + 0.007*\"private\" + 0.006*\"workplace\" + 0.006*\"investment\" + 0.006*\"oversee\"\n",
      "Topic: 19 Word: 0.009*\"financial\" + 0.008*\"accounting\" + 0.008*\"school\" + 0.007*\"group\" + 0.007*\"reporting\" + 0.007*\"finance\" + 0.006*\"business\" + 0.006*\"swimming\" + 0.006*\"science\" + 0.005*\"skill\"\n",
      "Topic: 20 Word: 0.017*\"medical\" + 0.010*\"company\" + 0.010*\"financial\" + 0.007*\"group\" + 0.007*\"drug\" + 0.007*\"restaurant\" + 0.006*\"report\" + 0.006*\"art\" + 0.006*\"budget\" + 0.006*\"asset\"\n",
      "Topic: 21 Word: 0.048*\"lab\" + 0.015*\"technology\" + 0.012*\"security\" + 0.010*\"supervise\" + 0.006*\"school\" + 0.006*\"student\" + 0.006*\"duty\" + 0.005*\"information\" + 0.005*\"policy\" + 0.005*\"teach\"\n",
      "Topic: 22 Word: 0.014*\"analysis\" + 0.014*\"chemical\" + 0.012*\"product\" + 0.010*\"business\" + 0.009*\"lab\" + 0.007*\"oversee\" + 0.007*\"student\" + 0.006*\"impact\" + 0.006*\"skill\" + 0.006*\"area\"\n",
      "Topic: 23 Word: 0.018*\"property\" + 0.010*\"sale\" + 0.006*\"customer\" + 0.006*\"research\" + 0.006*\"division\" + 0.006*\"site\" + 0.005*\"singapore\" + 0.005*\"planning\" + 0.005*\"management\" + 0.005*\"business\"\n",
      "Topic: 24 Word: 0.019*\"client\" + 0.008*\"contract\" + 0.008*\"financial\" + 0.008*\"property\" + 0.007*\"activity\" + 0.007*\"bid\" + 0.007*\"document\" + 0.007*\"legal\" + 0.006*\"event\" + 0.006*\"business\"\n",
      "Topic: 25 Word: 0.013*\"security\" + 0.009*\"production\" + 0.008*\"medium\" + 0.008*\"team\" + 0.007*\"process\" + 0.007*\"aspac\" + 0.006*\"hard\" + 0.006*\"risk\" + 0.006*\"global\" + 0.006*\"standard\"\n",
      "Topic: 26 Word: 0.035*\"primary\" + 0.026*\"math\" + 0.016*\"teach\" + 0.013*\"school\" + 0.013*\"english\" + 0.012*\"supervise\" + 0.011*\"equipment\" + 0.010*\"science\" + 0.008*\"provide\" + 0.008*\"secondary\"\n",
      "Topic: 27 Word: 0.025*\"library\" + 0.015*\"process\" + 0.015*\"risk\" + 0.013*\"management\" + 0.008*\"food\" + 0.007*\"improvement\" + 0.007*\"development\" + 0.006*\"collection\" + 0.006*\"fb\" + 0.006*\"cineplex\"\n",
      "Topic: 28 Word: 0.013*\"community\" + 0.011*\"tcm\" + 0.007*\"data\" + 0.006*\"various\" + 0.006*\"business\" + 0.006*\"child\" + 0.006*\"analysis\" + 0.006*\"create\" + 0.006*\"counselling\" + 0.005*\"sale\"\n",
      "Topic: 29 Word: 0.022*\"system\" + 0.014*\"building\" + 0.013*\"maintenance\" + 0.011*\"service\" + 0.009*\"site\" + 0.009*\"facility\" + 0.008*\"software\" + 0.008*\"child\" + 0.007*\"manager\" + 0.007*\"security\"\n",
      "Topic: 30 Word: 0.009*\"maintenance\" + 0.009*\"laboratory\" + 0.008*\"work\" + 0.008*\"food\" + 0.007*\"mathematics\" + 0.006*\"perform\" + 0.006*\"equipment\" + 0.006*\"testing\" + 0.006*\"product\" + 0.005*\"manage\"\n",
      "Topic: 31 Word: 0.048*\"legal\" + 0.012*\"advice\" + 0.010*\"technical\" + 0.010*\"issue\" + 0.009*\"counsel\" + 0.009*\"support\" + 0.009*\"contract\" + 0.008*\"document\" + 0.007*\"customer\" + 0.007*\"edward\"\n",
      "Topic: 32 Word: 0.036*\"company\" + 0.020*\"safety\" + 0.012*\"church\" + 0.011*\"related\" + 0.008*\"asia\" + 0.008*\"write\" + 0.007*\"office\" + 0.007*\"pacific\" + 0.007*\"health\" + 0.006*\"management\"\n",
      "Topic: 33 Word: 0.010*\"law\" + 0.009*\"area\" + 0.008*\"business\" + 0.006*\"data\" + 0.006*\"knowledge\" + 0.006*\"process\" + 0.006*\"understanding\" + 0.005*\"analyst\" + 0.005*\"disciplinary\" + 0.005*\"applies\"\n",
      "Topic: 34 Word: 0.039*\"patient\" + 0.025*\"tcm\" + 0.017*\"treatment\" + 0.016*\"prescription\" + 0.015*\"chinese\" + 0.013*\"medicine\" + 0.012*\"care\" + 0.011*\"acupuncture\" + 0.010*\"medication\" + 0.008*\"customer\"\n",
      "Topic: 35 Word: 0.009*\"support\" + 0.008*\"site\" + 0.008*\"design\" + 0.008*\"test\" + 0.008*\"improvement\" + 0.007*\"quality\" + 0.006*\"solution\" + 0.005*\"process\" + 0.005*\"drawing\" + 0.005*\"functional\"\n",
      "Topic: 36 Word: 0.043*\"medicine\" + 0.039*\"prescribe\" + 0.018*\"patient\" + 0.014*\"family\" + 0.013*\"care\" + 0.011*\"chinese\" + 0.007*\"responsible\" + 0.006*\"addressing\" + 0.006*\"overall\" + 0.006*\"diagnose\"\n",
      "Topic: 37 Word: 0.021*\"doctor\" + 0.012*\"treating\" + 0.012*\"day\" + 0.010*\"medicine\" + 0.009*\"sample\" + 0.009*\"diagnose\" + 0.008*\"chinese\" + 0.008*\"patient\" + 0.008*\"laboratory\" + 0.007*\"international\"\n",
      "Topic: 38 Word: 0.016*\"client\" + 0.012*\"product\" + 0.011*\"teacher\" + 0.009*\"event\" + 0.008*\"chemistry\" + 0.007*\"market\" + 0.007*\"system\" + 0.006*\"sale\" + 0.006*\"teach\" + 0.006*\"user\"\n",
      "Topic: 39 Word: 0.015*\"care\" + 0.015*\"community\" + 0.014*\"church\" + 0.011*\"member\" + 0.007*\"marketing\" + 0.007*\"junior\" + 0.007*\"patient\" + 0.007*\"need\" + 0.006*\"pastoral\" + 0.006*\"asia\"\n",
      "Topic: 40 Word: 0.014*\"price\" + 0.011*\"quote\" + 0.010*\"video\" + 0.010*\"good\" + 0.010*\"solicit\" + 0.009*\"operation\" + 0.008*\"salesrelated\" + 0.008*\"credit\" + 0.007*\"order\" + 0.007*\"supplier\"\n",
      "Topic: 41 Word: 0.009*\"process\" + 0.009*\"database\" + 0.008*\"establish\" + 0.007*\"french\" + 0.007*\"training\" + 0.006*\"user\" + 0.006*\"based\" + 0.006*\"developing\" + 0.006*\"counselling\" + 0.006*\"team\"\n",
      "Topic: 42 Word: 0.011*\"team\" + 0.011*\"health\" + 0.009*\"supplier\" + 0.008*\"business\" + 0.007*\"ensure\" + 0.007*\"shipment\" + 0.006*\"performance\" + 0.006*\"hr\" + 0.005*\"corporate\" + 0.005*\"audit\"\n",
      "Topic: 43 Word: 0.019*\"project\" + 0.015*\"event\" + 0.015*\"management\" + 0.011*\"production\" + 0.008*\"engine\" + 0.007*\"plant\" + 0.007*\"part\" + 0.007*\"development\" + 0.006*\"team\" + 0.006*\"brand\"\n",
      "Topic: 44 Word: 0.010*\"marketing\" + 0.010*\"control\" + 0.010*\"music\" + 0.010*\"clinic\" + 0.009*\"risk\" + 0.009*\"security\" + 0.008*\"production\" + 0.006*\"freight\" + 0.006*\"sound\" + 0.006*\"collection\"\n",
      "Topic: 45 Word: 0.017*\"operation\" + 0.012*\"assist\" + 0.009*\"contractor\" + 0.007*\"support\" + 0.006*\"management\" + 0.006*\"duty\" + 0.006*\"infrastructure\" + 0.006*\"system\" + 0.006*\"liaise\" + 0.005*\"building\"\n",
      "Topic: 46 Word: 0.010*\"management\" + 0.008*\"accounting\" + 0.007*\"change\" + 0.006*\"financial\" + 0.006*\"policy\" + 0.006*\"system\" + 0.006*\"environment\" + 0.006*\"finance\" + 0.006*\"standard\" + 0.005*\"reporting\"\n",
      "Topic: 47 Word: 0.013*\"assist\" + 0.012*\"design\" + 0.009*\"production\" + 0.009*\"equipment\" + 0.008*\"module\" + 0.008*\"paper\" + 0.008*\"lesson\" + 0.007*\"data\" + 0.007*\"student\" + 0.007*\"video\"\n",
      "Topic: 48 Word: 0.032*\"patient\" + 0.018*\"consultation\" + 0.017*\"provide\" + 0.016*\"medical\" + 0.012*\"care\" + 0.011*\"service\" + 0.011*\"research\" + 0.010*\"animal\" + 0.009*\"health\" + 0.007*\"nursing\"\n",
      "Topic: 49 Word: 0.018*\"patient\" + 0.017*\"treat\" + 0.015*\"medication\" + 0.011*\"tcm\" + 0.008*\"medical\" + 0.008*\"project\" + 0.007*\"hospital\" + 0.006*\"develop\" + 0.006*\"help\" + 0.006*\"make\"\n",
      "Topic: 50 Word: 0.009*\"prepare\" + 0.007*\"technical\" + 0.007*\"test\" + 0.006*\"risk\" + 0.006*\"responsible\" + 0.005*\"account\" + 0.005*\"inspection\" + 0.005*\"laboratory\" + 0.005*\"work\" + 0.004*\"customer\"\n",
      "Topic: 51 Word: 0.020*\"service\" + 0.014*\"project\" + 0.010*\"coordinate\" + 0.007*\"potential\" + 0.007*\"contract\" + 0.007*\"department\" + 0.007*\"provide\" + 0.006*\"desk\" + 0.006*\"ensure\" + 0.006*\"meeting\"\n",
      "Topic: 52 Word: 0.020*\"medium\" + 0.019*\"client\" + 0.010*\"aspac\" + 0.010*\"hard\" + 0.009*\"therapy\" + 0.008*\"video\" + 0.008*\"sale\" + 0.007*\"server\" + 0.007*\"job\" + 0.006*\"artist\"\n",
      "Topic: 53 Word: 0.015*\"design\" + 0.013*\"care\" + 0.012*\"graphic\" + 0.009*\"take\" + 0.007*\"hardware\" + 0.006*\"include\" + 0.006*\"area\" + 0.006*\"technology\" + 0.005*\"computer\" + 0.005*\"animation\"\n",
      "Topic: 54 Word: 0.028*\"customer\" + 0.016*\"safety\" + 0.010*\"health\" + 0.010*\"time\" + 0.009*\"perform\" + 0.009*\"service\" + 0.007*\"general\" + 0.006*\"handle\" + 0.006*\"product\" + 0.005*\"child\"\n",
      "Topic: 55 Word: 0.021*\"ship\" + 0.008*\"department\" + 0.006*\"study\" + 0.006*\"singapore\" + 0.006*\"management\" + 0.005*\"rule\" + 0.005*\"entity\" + 0.004*\"fuel\" + 0.004*\"vehicle\" + 0.004*\"maintaining\"\n",
      "Topic: 56 Word: 0.019*\"project\" + 0.009*\"document\" + 0.008*\"assisting\" + 0.008*\"work\" + 0.006*\"entertainment\" + 0.006*\"audit\" + 0.006*\"material\" + 0.006*\"review\" + 0.005*\"preparing\" + 0.005*\"written\"\n",
      "Topic: 57 Word: 0.009*\"business\" + 0.009*\"music\" + 0.007*\"change\" + 0.007*\"play\" + 0.006*\"family\" + 0.006*\"safety\" + 0.006*\"ensure\" + 0.006*\"plant\" + 0.006*\"workplace\" + 0.005*\"art\"\n",
      "Topic: 58 Word: 0.030*\"research\" + 0.014*\"chinese\" + 0.010*\"language\" + 0.006*\"doctor\" + 0.005*\"application\" + 0.005*\"protocol\" + 0.005*\"junior\" + 0.005*\"administration\" + 0.005*\"literature\" + 0.005*\"machinery\"\n",
      "Topic: 59 Word: 0.039*\"school\" + 0.025*\"learning\" + 0.022*\"student\" + 0.012*\"teaching\" + 0.012*\"secondary\" + 0.010*\"english\" + 0.009*\"instructional\" + 0.009*\"teach\" + 0.008*\"teacher\" + 0.008*\"engineering\"\n",
      "Topic: 60 Word: 0.014*\"food\" + 0.012*\"hotel\" + 0.010*\"restaurant\" + 0.008*\"operation\" + 0.008*\"beverage\" + 0.007*\"client\" + 0.005*\"candidate\" + 0.005*\"dining\" + 0.005*\"local\" + 0.005*\"organise\"\n",
      "Topic: 61 Word: 0.015*\"english\" + 0.014*\"infant\" + 0.013*\"learning\" + 0.010*\"child\" + 0.009*\"teacher\" + 0.009*\"develop\" + 0.009*\"social\" + 0.008*\"partner\" + 0.008*\"adult\" + 0.008*\"programme\"\n",
      "Topic: 62 Word: 0.007*\"community\" + 0.006*\"within\" + 0.006*\"pastoral\" + 0.005*\"skill\" + 0.005*\"school\" + 0.005*\"college\" + 0.005*\"moderate\" + 0.005*\"counselling\" + 0.005*\"parenting\" + 0.004*\"child\"\n",
      "Topic: 63 Word: 0.027*\"equipment\" + 0.011*\"care\" + 0.009*\"maintenance\" + 0.007*\"running\" + 0.006*\"machine\" + 0.006*\"manage\" + 0.006*\"ensure\" + 0.006*\"outlet\" + 0.006*\"theory\" + 0.005*\"pmes\"\n",
      "Topic: 64 Word: 0.015*\"doctor\" + 0.012*\"medical\" + 0.011*\"client\" + 0.010*\"care\" + 0.007*\"content\" + 0.007*\"student\" + 0.007*\"patient\" + 0.007*\"providing\" + 0.006*\"pastoral\" + 0.005*\"local\"\n",
      "Topic: 65 Word: 0.013*\"vessel\" + 0.012*\"service\" + 0.011*\"data\" + 0.010*\"operation\" + 0.006*\"sharepoint\" + 0.006*\"statutory\" + 0.005*\"technology\" + 0.005*\"centre\" + 0.005*\"oversee\" + 0.005*\"expert\"\n",
      "Topic: 66 Word: 0.013*\"course\" + 0.010*\"different\" + 0.009*\"guest\" + 0.007*\"equipment\" + 0.007*\"safety\" + 0.007*\"student\" + 0.007*\"conduct\" + 0.007*\"writing\" + 0.007*\"product\" + 0.006*\"sample\"\n"
     ]
    }
   ],
   "source": [
    "for idx, topic in nmf_tfidf.print_topics(-1):\n",
    "    print('Topic: {} Word: {}'.format((idx+1), topic))"
   ]
  },
  {
   "cell_type": "code",
   "execution_count": null,
   "metadata": {},
   "outputs": [],
   "source": []
  }
 ],
 "metadata": {
  "kernelspec": {
   "display_name": "Python 3",
   "language": "python",
   "name": "python3"
  },
  "language_info": {
   "codemirror_mode": {
    "name": "ipython",
    "version": 3
   },
   "file_extension": ".py",
   "mimetype": "text/x-python",
   "name": "python",
   "nbconvert_exporter": "python",
   "pygments_lexer": "ipython3",
   "version": "3.7.6"
  }
 },
 "nbformat": 4,
 "nbformat_minor": 4
}
