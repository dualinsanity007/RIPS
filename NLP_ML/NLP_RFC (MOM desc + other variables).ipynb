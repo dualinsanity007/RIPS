{
 "cells": [
  {
   "cell_type": "markdown",
   "metadata": {},
   "source": [
    "## Load Data"
   ]
  },
  {
   "cell_type": "code",
   "execution_count": null,
   "metadata": {},
   "outputs": [],
   "source": [
    "import pandas as pd\n",
    "import numpy as np\n",
    "data = pd.read_csv('nus_data_full_rand.csv', encoding= 'unicode_escape', index_col = False)\n",
    "\n",
    "labels = data['E_OCC']\n",
    "data['rand'] = pd.Series(np.random.uniform(0,1,len(labels.index)))\n",
    "data = data.sort_values(by=['rand'])"
   ]
  },
  {
   "cell_type": "markdown",
   "metadata": {},
   "source": [
    "## Pre-Processing"
   ]
  },
  {
   "cell_type": "code",
   "execution_count": 3,
   "metadata": {},
   "outputs": [],
   "source": [
    "# Function to remove Punctuation\n",
    "\n",
    "import string\n",
    "\n",
    "def remove_punc(text):\n",
    "    text_nopunc = \"\".join([char for char in text if char not in string.punctuation])  # discard all punctuation\n",
    "    return text_nopunc\n",
    "\n",
    "data['desc_clean'] = data['E_OCC_Desc'].apply(lambda x: remove_punc(x))\n",
    "\n",
    "#data.head()"
   ]
  },
  {
   "cell_type": "code",
   "execution_count": 4,
   "metadata": {},
   "outputs": [],
   "source": [
    "# Function to Tokenize words\n",
    "\n",
    "import re\n",
    "\n",
    "def tokenise(text):\n",
    "    tokens = re.split('\\W+', text)\n",
    "    return tokens\n",
    "\n",
    "data['desc_tokenised'] = data['desc_clean'].apply(lambda x: tokenise(x.lower()))\n",
    "\n",
    "#data.head()"
   ]
  },
  {
   "cell_type": "code",
   "execution_count": 5,
   "metadata": {},
   "outputs": [
    {
     "name": "stderr",
     "output_type": "stream",
     "text": [
      "[nltk_data] Downloading package stopwords to C:\\Users\\Wu\n",
      "[nltk_data]     Puyue\\AppData\\Roaming\\nltk_data...\n",
      "[nltk_data]   Package stopwords is already up-to-date!\n"
     ]
    }
   ],
   "source": [
    "# Function to remove stopwords\n",
    "\n",
    "import nltk\n",
    "nltk.download('stopwords')\n",
    "\n",
    "stopword = nltk.corpus.stopwords.words('english')\n",
    "\n",
    "def remove_stopwords(lst):\n",
    "    text = [word for word in lst if word not in stopword]  # Remove all stopwords\n",
    "    return text\n",
    "\n",
    "data['desc_nostop'] = data['desc_tokenised'].apply(lambda x: remove_stopwords(x))\n",
    "\n",
    "#data.head()"
   ]
  },
  {
   "cell_type": "code",
   "execution_count": null,
   "metadata": {},
   "outputs": [],
   "source": [
    "# Lemmatizing\n",
    "\n",
    "import nltk\n",
    "nltk.download('wordnet')\n",
    "\n",
    "wn = nltk.WordNetLemmatizer()\n",
    "\n",
    "def lemmatizing(token):\n",
    "    text = [wn.lemmatize(word) for word in token]\n",
    "    return text\n",
    "\n",
    "data['desc_lemmatized'] = data['desc_nostop'].apply(lambda x: lemmatizing(x))\n",
    "\n",
    "# data.head(5)"
   ]
  },
  {
   "cell_type": "code",
   "execution_count": 7,
   "metadata": {},
   "outputs": [],
   "source": [
    "def clean_text(text):\n",
    "    text = \"\".join([word.lower() for word in text if word not in string.punctuation])\n",
    "    tokens = re.split('\\W+', text)\n",
    "    text = [wn.lemmatize(word) for word in tokens if word not in stopword]\n",
    "    return text"
   ]
  },
  {
   "cell_type": "markdown",
   "metadata": {},
   "source": [
    "# 3 Word-Embedding Methods & Corresponding RFC"
   ]
  },
  {
   "cell_type": "markdown",
   "metadata": {},
   "source": [
    "# 1. TF-IDF"
   ]
  },
  {
   "cell_type": "code",
   "execution_count": 8,
   "metadata": {},
   "outputs": [],
   "source": [
    "from sklearn.feature_extraction.text import TfidfVectorizer\n",
    "tfidf_vect = TfidfVectorizer(analyzer=clean_text)\n",
    "X_tfidf = tfidf_vect.fit_transform(data['E_OCC_Desc'])\n",
    "X_tfidf_array = pd.DataFrame(X_tfidf.toarray())"
   ]
  },
  {
   "cell_type": "code",
   "execution_count": 10,
   "metadata": {},
   "outputs": [],
   "source": [
    "cols = ['TENH','SEX','RACE','ID_TYP','MARITAL_ST', 'E_EMPST', 'E_IND_Desc_LE', 'EDUC_N', 'AGE_G']\n",
    "\n",
    "train_features_tfidf = pd.concat([data[cols], X_tfidf_array], axis = 1)\n",
    "#train_features_tfidf"
   ]
  },
  {
   "cell_type": "code",
   "execution_count": 11,
   "metadata": {},
   "outputs": [],
   "source": [
    "# split the data into train and test\n",
    "from sklearn.model_selection import train_test_split\n",
    "train_x, test_x, train_y, test_y = train_test_split(train_features_tfidf,labels,test_size=0.2,random_state=23, stratify=labels)\n",
    "#train_x"
   ]
  },
  {
   "cell_type": "code",
   "execution_count": null,
   "metadata": {},
   "outputs": [],
   "source": [
    "weights = dict(labels.value_counts())\n",
    "total = len(labels.index)\n",
    "unique = labels.nunique()\n",
    "print(weights)\n",
    "for k, v in weights.items():\n",
    "    weights[k] = (total-v)/total/(unique-1)\n",
    "#weights"
   ]
  },
  {
   "cell_type": "markdown",
   "metadata": {},
   "source": [
    "## Model Fitting and Hyperparameters Tuning (TF-IDF)"
   ]
  },
  {
   "cell_type": "code",
   "execution_count": 13,
   "metadata": {},
   "outputs": [
    {
     "name": "stderr",
     "output_type": "stream",
     "text": [
      "C:\\Users\\Wu Puyue\\Anaconda3\\lib\\site-packages\\sklearn\\model_selection\\_split.py:657: Warning: The least populated class in y has only 2 members, which is too few. The minimum number of members in any class cannot be less than n_splits=5.\n",
      "  % (min_groups, self.n_splits)), Warning)\n",
      "C:\\Users\\Wu Puyue\\Anaconda3\\lib\\site-packages\\sklearn\\model_selection\\_search.py:813: DeprecationWarning: The default of the `iid` parameter will change from True to False in version 0.22 and will be removed in 0.24. This will change numeric results when test-set sizes are unequal.\n",
      "  DeprecationWarning)\n"
     ]
    },
    {
     "name": "stdout",
     "output_type": "stream",
     "text": [
      "Time taken for training the model: 37.11024451255798\n",
      "Best parameters found:\n",
      " {'bootstrap': True, 'max_depth': 30, 'max_features': 12, 'min_samples_leaf': 2, 'min_samples_split': 14, 'n_estimators': 200}\n",
      "Mean test score: 0.31837477258944813\n"
     ]
    }
   ],
   "source": [
    "from sklearn.ensemble import RandomForestClassifier\n",
    "from sklearn.model_selection import GridSearchCV\n",
    "import time\n",
    "\n",
    "start_time = time.time()\n",
    "rfc = RandomForestClassifier()\n",
    "parameter_space = {\n",
    "    'bootstrap': [True],\n",
    "    'max_depth': [20, 25, 30],\n",
    "    'max_features': [8, 10, 12],\n",
    "    'min_samples_leaf': [2, 3],\n",
    "    'min_samples_split': [10, 12, 14],\n",
    "    'n_estimators': [100, 200]\n",
    "    # 'class_weight': [weights]\n",
    "}\n",
    "\n",
    "clf = GridSearchCV(rfc, parameter_space, n_jobs=-1, cv=5)\n",
    "clf.fit(train_x, train_y)\n",
    "print('Time taken for training the model: '+ str(time.time() - start_time))\n",
    "\n",
    "optimised_rf = clf.best_estimator_\n",
    "\n",
    "# Best parameter set\n",
    "print('Best parameters found:\\n', clf.best_params_)\n",
    "print('Mean test score:', max(clf.cv_results_['mean_test_score']))"
   ]
  },
  {
   "cell_type": "code",
   "execution_count": 21,
   "metadata": {
    "scrolled": false
   },
   "outputs": [],
   "source": [
    "# All results\n",
    "means = clf.cv_results_['mean_test_score']\n",
    "stds = clf.cv_results_['std_test_score']\n",
    "#for mean, std, params in zip(means, stds, clf.cv_results_['params']):\n",
    " #   print(\"%0.3f (+/-%0.03f) for %r\" % (mean, std * 2, params))"
   ]
  },
  {
   "cell_type": "code",
   "execution_count": null,
   "metadata": {},
   "outputs": [],
   "source": [
    "y_true, y_pred = test_y , optimised_rf.predict(test_x)\n",
    "from sklearn.metrics import classification_report\n",
    "\n",
    "# precision = true positive/(true positive + false positive)\n",
    "# recall = true positive/(true positive + false negative)\n",
    "# f1 score = 2 * (precision * recall)/(precision + recall)\n",
    "\n",
    "#print('Results on the test set:')\n",
    "#print(classification_report(y_true, y_pred))\n",
    "from sklearn.metrics import accuracy_score\n",
    "accuracy_score(y_true, y_pred)\n",
    "from sklearn.metrics import confusion_matrix\n",
    "#print(confusion_matrix(y_true, y_pred))"
   ]
  },
  {
   "cell_type": "markdown",
   "metadata": {},
   "source": [
    "#  2. Bag of Words (CountVectorizer)\n"
   ]
  },
  {
   "cell_type": "code",
   "execution_count": 16,
   "metadata": {},
   "outputs": [],
   "source": [
    "from sklearn.feature_extraction.text import CountVectorizer\n",
    "\n",
    "count_vect = CountVectorizer(analyzer=clean_text)\n",
    "X_counts = count_vect.fit_transform(data['E_OCC_Desc'])\n",
    "X_counts_array = pd.DataFrame(X_counts.toarray())"
   ]
  },
  {
   "cell_type": "code",
   "execution_count": 17,
   "metadata": {},
   "outputs": [],
   "source": [
    "cols = ['TENH','SEX','RACE','ID_TYP','MARITAL_ST', 'E_EMPST', 'E_IND_Desc_LE', 'EDUC_N', 'AGE_G']\n",
    "\n",
    "train_features = pd.concat([data[cols], X_counts_array], axis = 1)\n",
    "#train_features"
   ]
  },
  {
   "cell_type": "code",
   "execution_count": 19,
   "metadata": {},
   "outputs": [],
   "source": [
    "# split the data into train and test\n",
    "from sklearn.model_selection import train_test_split\n",
    "train_x2, test_x2, train_y2, test_y2 = train_test_split(train_features,labels,test_size=0.2,random_state=23, stratify=labels)\n",
    "#train_x2"
   ]
  },
  {
   "cell_type": "code",
   "execution_count": null,
   "metadata": {},
   "outputs": [],
   "source": [
    "weights = dict(labels.value_counts())\n",
    "total = len(labels.index)\n",
    "unique = labels.nunique()\n",
    "print(weights)\n",
    "for k, v in weights.items():\n",
    "    weights[k] = (total-v)/total/(unique-1)\n",
    "#weights"
   ]
  },
  {
   "cell_type": "markdown",
   "metadata": {},
   "source": [
    "## Model Fitting and Hyperparameters Tuning (BoW)"
   ]
  },
  {
   "cell_type": "code",
   "execution_count": 22,
   "metadata": {},
   "outputs": [
    {
     "name": "stderr",
     "output_type": "stream",
     "text": [
      "C:\\Users\\Wu Puyue\\Anaconda3\\lib\\site-packages\\sklearn\\model_selection\\_split.py:657: Warning: The least populated class in y has only 2 members, which is too few. The minimum number of members in any class cannot be less than n_splits=5.\n",
      "  % (min_groups, self.n_splits)), Warning)\n",
      "C:\\Users\\Wu Puyue\\Anaconda3\\lib\\site-packages\\sklearn\\model_selection\\_search.py:813: DeprecationWarning: The default of the `iid` parameter will change from True to False in version 0.22 and will be removed in 0.24. This will change numeric results when test-set sizes are unequal.\n",
      "  DeprecationWarning)\n"
     ]
    },
    {
     "name": "stdout",
     "output_type": "stream",
     "text": [
      "Time taken for training the model: 46.83394145965576\n",
      "Best parameters found:\n",
      " {'bootstrap': True, 'max_depth': 25, 'max_features': 12, 'min_samples_leaf': 2, 'min_samples_split': 10, 'n_estimators': 200}\n",
      "Mean test score: 0.32989690721649484\n"
     ]
    }
   ],
   "source": [
    "start_time = time.time()\n",
    "rfc = RandomForestClassifier()\n",
    "parameter_space = {\n",
    "    'bootstrap': [True],\n",
    "    'max_depth': [20, 25, 30, 35],\n",
    "    'max_features': [8, 10, 12],\n",
    "    'min_samples_leaf': [2, 3],\n",
    "    'min_samples_split': [10, 12, 14],\n",
    "    'n_estimators': [100, 200]\n",
    "    # 'class_weight': [weights]\n",
    "}\n",
    "\n",
    "clf = GridSearchCV(rfc, parameter_space, n_jobs=-1, cv=5)\n",
    "clf.fit(train_x2, train_y2)\n",
    "print('Time taken for training the model: '+ str(time.time() - start_time))\n",
    "\n",
    "optimised_rf = clf.best_estimator_\n",
    "\n",
    "# Best parameter set\n",
    "print('Best parameters found:\\n', clf.best_params_)\n",
    "print('Mean test score:', max(clf.cv_results_['mean_test_score']))"
   ]
  },
  {
   "cell_type": "code",
   "execution_count": null,
   "metadata": {},
   "outputs": [],
   "source": [
    "y_true, y_pred = test_y2 , optimised_rf.predict(test_x2)\n",
    "from sklearn.metrics import classification_report\n",
    "\n",
    "# precision = true positive/(true positive + false positive)\n",
    "# recall = true positive/(true positive + false negative)\n",
    "# f1 score = 2 * (precision * recall)/(precision + recall)\n",
    "\n",
    "#print('Results on the test set:')\n",
    "#print(classification_report(y_true, y_pred))\n",
    "from sklearn.metrics import accuracy_score\n",
    "accuracy_score(y_true, y_pred)\n",
    "from sklearn.metrics import confusion_matrix\n",
    "#print(confusion_matrix(y_true, y_pred))"
   ]
  },
  {
   "cell_type": "markdown",
   "metadata": {},
   "source": [
    "# N-Grams"
   ]
  },
  {
   "cell_type": "code",
   "execution_count": 24,
   "metadata": {},
   "outputs": [],
   "source": [
    "ngram_vect = CountVectorizer(ngram_range=(2,2), analyzer=clean_text)\n",
    "X_counts2 = ngram_vect.fit_transform(data['E_OCC_Desc'])\n",
    "X_counts2_array = pd.DataFrame(X_counts2.toarray())"
   ]
  },
  {
   "cell_type": "code",
   "execution_count": 25,
   "metadata": {},
   "outputs": [],
   "source": [
    "cols = ['TENH','SEX','RACE','ID_TYP','MARITAL_ST', 'E_EMPST', 'E_IND_Desc_LE', 'EDUC_N', 'AGE_G']\n",
    "\n",
    "train_features_NG = pd.concat([data[cols], X_counts2_array], axis = 1)\n",
    "#train_features_NG"
   ]
  },
  {
   "cell_type": "code",
   "execution_count": 26,
   "metadata": {},
   "outputs": [],
   "source": [
    "# split the data into train and test\n",
    "#from sklearn.model_selection import train_test_split\n",
    "train_x3, test_x3, train_y3, test_y3 = train_test_split(train_features_NG,labels,test_size=0.2,random_state=23, stratify=labels)\n",
    "#train_x3"
   ]
  },
  {
   "cell_type": "code",
   "execution_count": null,
   "metadata": {},
   "outputs": [],
   "source": [
    "weights = dict(labels.value_counts())\n",
    "total = len(labels.index)\n",
    "unique = labels.nunique()\n",
    "print(weights)\n",
    "for k, v in weights.items():\n",
    "    weights[k] = (total-v)/total/(unique-1)\n",
    "#weights"
   ]
  },
  {
   "cell_type": "markdown",
   "metadata": {},
   "source": [
    "## Model Fitting and Hyperparameters Tuning (N-Grams)"
   ]
  },
  {
   "cell_type": "code",
   "execution_count": 27,
   "metadata": {},
   "outputs": [
    {
     "name": "stderr",
     "output_type": "stream",
     "text": [
      "C:\\Users\\Wu Puyue\\Anaconda3\\lib\\site-packages\\sklearn\\model_selection\\_split.py:657: Warning: The least populated class in y has only 2 members, which is too few. The minimum number of members in any class cannot be less than n_splits=5.\n",
      "  % (min_groups, self.n_splits)), Warning)\n",
      "C:\\Users\\Wu Puyue\\Anaconda3\\lib\\site-packages\\sklearn\\model_selection\\_search.py:813: DeprecationWarning: The default of the `iid` parameter will change from True to False in version 0.22 and will be removed in 0.24. This will change numeric results when test-set sizes are unequal.\n",
      "  DeprecationWarning)\n"
     ]
    },
    {
     "name": "stdout",
     "output_type": "stream",
     "text": [
      "Time taken for training the model: 33.70927691459656\n",
      "Best parameters found:\n",
      " {'bootstrap': True, 'max_depth': 30, 'max_features': 12, 'min_samples_leaf': 2, 'min_samples_split': 12, 'n_estimators': 200}\n",
      "Mean test score: 0.3292904790782292\n"
     ]
    }
   ],
   "source": [
    "start_time = time.time()\n",
    "rfc = RandomForestClassifier()\n",
    "parameter_space = {\n",
    "    'bootstrap': [True],\n",
    "    'max_depth': [20, 25, 30],\n",
    "    'max_features': [8, 10, 12],\n",
    "    'min_samples_leaf': [2, 3],\n",
    "    'min_samples_split': [10, 12, 14],\n",
    "    'n_estimators': [100, 200]\n",
    "    # 'class_weight': [weights]\n",
    "}\n",
    "\n",
    "clf = GridSearchCV(rfc, parameter_space, n_jobs=-1, cv=5)\n",
    "clf.fit(train_x3, train_y3)\n",
    "print('Time taken for training the model: '+ str(time.time() - start_time))\n",
    "\n",
    "optimised_rf = clf.best_estimator_\n",
    "\n",
    "# Best parameter set\n",
    "print('Best parameters found:\\n', clf.best_params_)\n",
    "print('Mean test score:', max(clf.cv_results_['mean_test_score']))"
   ]
  },
  {
   "cell_type": "code",
   "execution_count": null,
   "metadata": {},
   "outputs": [],
   "source": [
    "y_true, y_pred = test_y3 , optimised_rf.predict(test_x3)\n",
    "from sklearn.metrics import classification_report\n",
    "\n",
    "# precision = true positive/(true positive + false positive)\n",
    "# recall = true positive/(true positive + false negative)\n",
    "# f1 score = 2 * (precision * recall)/(precision + recall)\n",
    "\n",
    "#print('Results on the test set:')\n",
    "#print(classification_report(y_true, y_pred))\n",
    "from sklearn.metrics import accuracy_score\n",
    "accuracy_score(y_true, y_pred)\n",
    "from sklearn.metrics import confusion_matrix\n",
    "#print(confusion_matrix(y_true, y_pred))"
   ]
  },
  {
   "cell_type": "code",
   "execution_count": null,
   "metadata": {},
   "outputs": [],
   "source": []
  }
 ],
 "metadata": {
  "kernelspec": {
   "display_name": "Python 3 (ipykernel)",
   "language": "python",
   "name": "python3"
  },
  "language_info": {
   "codemirror_mode": {
    "name": "ipython",
    "version": 3
   },
   "file_extension": ".py",
   "mimetype": "text/x-python",
   "name": "python",
   "nbconvert_exporter": "python",
   "pygments_lexer": "ipython3",
   "version": "3.9.7"
  }
 },
 "nbformat": 4,
 "nbformat_minor": 4
}
