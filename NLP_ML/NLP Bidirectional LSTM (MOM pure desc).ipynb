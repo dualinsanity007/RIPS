{
 "cells": [
  {
   "cell_type": "markdown",
   "metadata": {},
   "source": [
    "# Loading and Pre-processing"
   ]
  },
  {
   "cell_type": "code",
   "execution_count": 2,
   "metadata": {},
   "outputs": [
    {
     "name": "stdout",
     "output_type": "stream",
     "text": [
      "2.7.0\n"
     ]
    }
   ],
   "source": [
    "import tensorflow as tf\n",
    "print(tf.__version__)\n",
    "\n",
    "import csv\n",
    "import tensorflow as tf\n",
    "import numpy as np\n",
    "from tensorflow.keras.preprocessing.text import Tokenizer\n",
    "from tensorflow.keras.preprocessing.sequence import pad_sequences\n",
    "from nltk.corpus import stopwords\n",
    "from tensorflow.keras import backend as K\n",
    "STOPWORDS = set(stopwords.words('english'))"
   ]
  },
  {
   "cell_type": "code",
   "execution_count": 2,
   "metadata": {},
   "outputs": [],
   "source": [
    "vocab_size = 5000  # most common 5k words\n",
    "embedding_dim = 64  # \n",
    "max_length = 200   # padding length\n",
    "trunc_type = 'post'   # trunciate from the back\n",
    "padding_type = 'post'   # pad from the back\n",
    "oov_tok = '<OOV>'   # tokens used for words that are in word_index\n",
    "training_portion = .8    # 80-20 split"
   ]
  },
  {
   "cell_type": "code",
   "execution_count": 3,
   "metadata": {},
   "outputs": [
    {
     "name": "stdout",
     "output_type": "stream",
     "text": [
      "3165\n",
      "3165\n"
     ]
    }
   ],
   "source": [
    "articles = []\n",
    "labels = []\n",
    "\n",
    "# pre-shuffled in excel\n",
    "# removing stopwords in the meantime\n",
    "# split labels and descriptions\n",
    "\n",
    "with open(\"NUS_training_desc.csv\", encoding = 'unicode_escape') as csvfile:\n",
    "    reader = csv.reader(csvfile, delimiter=',')\n",
    "    next(reader)\n",
    "    for row in reader:\n",
    "        labels.append(row[0])\n",
    "        article = row[1]\n",
    "        for word in STOPWORDS:\n",
    "            token = ' ' + word + ' '\n",
    "            article = article.replace(token, ' ')\n",
    "            article = article.replace(' ', ' ')\n",
    "        articles.append(article)\n",
    "print(len(labels))\n",
    "print(len(articles))"
   ]
  },
  {
   "cell_type": "code",
   "execution_count": 4,
   "metadata": {},
   "outputs": [],
   "source": [
    "# print(articles)"
   ]
  },
  {
   "cell_type": "code",
   "execution_count": 5,
   "metadata": {},
   "outputs": [
    {
     "name": "stdout",
     "output_type": "stream",
     "text": [
      "2532\n",
      "2532\n",
      "2532\n",
      "633\n",
      "633\n"
     ]
    }
   ],
   "source": [
    "train_size = int(len(articles) * training_portion)\n",
    "\n",
    "train_articles = articles[0: train_size]\n",
    "train_labels = labels[0: train_size]\n",
    "\n",
    "validation_articles = articles[train_size:]\n",
    "validation_labels = labels[train_size:]\n",
    "\n",
    "print(train_size)\n",
    "print(len(train_articles))\n",
    "print(len(train_labels))\n",
    "print(len(validation_articles))\n",
    "print(len(validation_labels))"
   ]
  },
  {
   "cell_type": "code",
   "execution_count": 6,
   "metadata": {},
   "outputs": [],
   "source": [
    "tokenizer = Tokenizer(num_words = vocab_size, oov_token=oov_tok)\n",
    "tokenizer.fit_on_texts(train_articles)\n",
    "word_index = tokenizer.word_index\n",
    "# dict(list(word_index.items())[0:10])"
   ]
  },
  {
   "cell_type": "code",
   "execution_count": 7,
   "metadata": {},
   "outputs": [],
   "source": [
    "train_sequences = tokenizer.texts_to_sequences(train_articles)"
   ]
  },
  {
   "cell_type": "code",
   "execution_count": 8,
   "metadata": {},
   "outputs": [],
   "source": [
    "train_padded = pad_sequences(train_sequences, maxlen=max_length, padding=padding_type, truncating=trunc_type)"
   ]
  },
  {
   "cell_type": "code",
   "execution_count": 9,
   "metadata": {},
   "outputs": [
    {
     "name": "stdout",
     "output_type": "stream",
     "text": [
      "633\n",
      "(633, 200)\n"
     ]
    }
   ],
   "source": [
    "validation_sequences = tokenizer.texts_to_sequences(validation_articles)\n",
    "validation_padded = pad_sequences(validation_sequences, maxlen=max_length, padding=padding_type, truncating=trunc_type)\n",
    "\n",
    "print(len(validation_sequences))\n",
    "print(validation_padded.shape)"
   ]
  },
  {
   "cell_type": "code",
   "execution_count": null,
   "metadata": {},
   "outputs": [],
   "source": [
    "# print(set(labels))"
   ]
  },
  {
   "cell_type": "code",
   "execution_count": 11,
   "metadata": {},
   "outputs": [],
   "source": [
    "label_tokenizer = Tokenizer()\n",
    "label_tokenizer.fit_on_texts(labels)\n",
    "\n",
    "# expected to be in numpy array\n",
    "training_label_seq = np.array(label_tokenizer.texts_to_sequences(train_labels))\n",
    "validation_label_seq = np.array(label_tokenizer.texts_to_sequences(validation_labels))"
   ]
  },
  {
   "cell_type": "code",
   "execution_count": 12,
   "metadata": {},
   "outputs": [],
   "source": [
    "reverse_word_index = dict([(value, key) for (key, value) in word_index.items()])\n",
    "\n",
    "def decode_article(text):\n",
    "    return ' '.join([reverse_word_index.get(i, '?') for i in text])"
   ]
  },
  {
   "cell_type": "markdown",
   "metadata": {},
   "source": [
    "## Building NLP LSTM model "
   ]
  },
  {
   "cell_type": "code",
   "execution_count": 13,
   "metadata": {},
   "outputs": [
    {
     "name": "stdout",
     "output_type": "stream",
     "text": [
      "Model: \"sequential\"\n",
      "_________________________________________________________________\n",
      "Layer (type)                 Output Shape              Param #   \n",
      "=================================================================\n",
      "embedding (Embedding)        (None, None, 64)          320000    \n",
      "_________________________________________________________________\n",
      "bidirectional (Bidirectional (None, 128)               66048     \n",
      "_________________________________________________________________\n",
      "dense (Dense)                (None, 64)                8256      \n",
      "_________________________________________________________________\n",
      "dropout (Dropout)            (None, 64)                0         \n",
      "_________________________________________________________________\n",
      "activation (Activation)      (None, 64)                0         \n",
      "_________________________________________________________________\n",
      "dense_1 (Dense)              (None, 68)                4420      \n",
      "=================================================================\n",
      "Total params: 398,724\n",
      "Trainable params: 398,724\n",
      "Non-trainable params: 0\n",
      "_________________________________________________________________\n"
     ]
    }
   ],
   "source": [
    "model = tf.keras.Sequential([\n",
    "    # Add an Embedding layer expecting input vocab of size 5000, and output embedding dimension of size 64 we set at the top\n",
    "    tf.keras.layers.Embedding(vocab_size, embedding_dim),\n",
    "    tf.keras.layers.Bidirectional(tf.keras.layers.LSTM(embedding_dim)),\n",
    "    # tf.keras.layers.Bidirectional(tf.keras.layers.LSTM(32)),\n",
    "    # use ReLU in place of tanh function since they are very good alternatives of each other.\n",
    "    tf.keras.layers.Dense(embedding_dim),\n",
    "    tf.keras.layers.Dropout(0.5),\n",
    "    tf.keras.layers.Activation('relu'),\n",
    "    # Add a Dense layer with 68 units and softmax activation.\n",
    "    # When we have multiple outputs, softmax convert outputs layers into a probability distribution.\n",
    "    tf.keras.layers.Dense(68, activation='softmax')\n",
    "])\n",
    "model.summary()"
   ]
  },
  {
   "cell_type": "code",
   "execution_count": 14,
   "metadata": {},
   "outputs": [],
   "source": [
    "model.compile(loss='sparse_categorical_crossentropy', optimizer='adam', metrics=['sparse_categorical_accuracy', 'accuracy'])"
   ]
  },
  {
   "cell_type": "code",
   "execution_count": 15,
   "metadata": {},
   "outputs": [
    {
     "name": "stdout",
     "output_type": "stream",
     "text": [
      "Train on 2532 samples, validate on 633 samples\n",
      "Epoch 1/30\n",
      "WARNING:tensorflow:Entity <function Function._initialize_uninitialized_variables.<locals>.initialize_variables at 0x0000021A11374708> could not be transformed and will be executed as-is. Please report this to the AutoGraph team. When filing the bug, set the verbosity to 10 (on Linux, `export AUTOGRAPH_VERBOSITY=10`) and attach the full output. Cause: module 'gast' has no attribute 'Num'\n",
      "WARNING: Entity <function Function._initialize_uninitialized_variables.<locals>.initialize_variables at 0x0000021A11374708> could not be transformed and will be executed as-is. Please report this to the AutoGraph team. When filing the bug, set the verbosity to 10 (on Linux, `export AUTOGRAPH_VERBOSITY=10`) and attach the full output. Cause: module 'gast' has no attribute 'Num'\n",
      "2532/2532 - 22s - loss: 4.2149 - sparse_categorical_accuracy: 0.0170 - accuracy: 0.0170 - val_loss: 4.1771 - val_sparse_categorical_accuracy: 0.0332 - val_accuracy: 0.0332\n",
      "Epoch 2/30\n",
      "2532/2532 - 17s - loss: 3.9990 - sparse_categorical_accuracy: 0.0355 - accuracy: 0.0355 - val_loss: 3.7809 - val_sparse_categorical_accuracy: 0.0316 - val_accuracy: 0.0316\n",
      "Epoch 3/30\n",
      "2532/2532 - 17s - loss: 3.7095 - sparse_categorical_accuracy: 0.0545 - accuracy: 0.0545 - val_loss: 3.5384 - val_sparse_categorical_accuracy: 0.0695 - val_accuracy: 0.0695\n",
      "Epoch 4/30\n",
      "2532/2532 - 17s - loss: 3.4913 - sparse_categorical_accuracy: 0.0731 - accuracy: 0.0731 - val_loss: 3.3805 - val_sparse_categorical_accuracy: 0.0979 - val_accuracy: 0.0979\n",
      "Epoch 5/30\n",
      "2532/2532 - 16s - loss: 3.2282 - sparse_categorical_accuracy: 0.1023 - accuracy: 0.1023 - val_loss: 3.2075 - val_sparse_categorical_accuracy: 0.1406 - val_accuracy: 0.1406\n",
      "Epoch 6/30\n",
      "2532/2532 - 17s - loss: 2.9450 - sparse_categorical_accuracy: 0.1430 - accuracy: 0.1430 - val_loss: 3.0997 - val_sparse_categorical_accuracy: 0.1706 - val_accuracy: 0.1706\n",
      "Epoch 7/30\n",
      "2532/2532 - 17s - loss: 2.6457 - sparse_categorical_accuracy: 0.2070 - accuracy: 0.2070 - val_loss: 3.0519 - val_sparse_categorical_accuracy: 0.1912 - val_accuracy: 0.1912\n",
      "Epoch 8/30\n",
      "2532/2532 - 18s - loss: 2.3759 - sparse_categorical_accuracy: 0.2547 - accuracy: 0.2547 - val_loss: 3.0094 - val_sparse_categorical_accuracy: 0.1880 - val_accuracy: 0.1880\n",
      "Epoch 9/30\n",
      "2532/2532 - 18s - loss: 2.2004 - sparse_categorical_accuracy: 0.3112 - accuracy: 0.3112 - val_loss: 3.0632 - val_sparse_categorical_accuracy: 0.2070 - val_accuracy: 0.2070\n",
      "Epoch 10/30\n",
      "2532/2532 - 16s - loss: 1.9810 - sparse_categorical_accuracy: 0.3641 - accuracy: 0.3641 - val_loss: 3.0346 - val_sparse_categorical_accuracy: 0.2338 - val_accuracy: 0.2338\n",
      "Epoch 11/30\n",
      "2532/2532 - 17s - loss: 1.8040 - sparse_categorical_accuracy: 0.4234 - accuracy: 0.4234 - val_loss: 3.2018 - val_sparse_categorical_accuracy: 0.2259 - val_accuracy: 0.2259\n",
      "Epoch 12/30\n",
      "2532/2532 - 17s - loss: 1.5991 - sparse_categorical_accuracy: 0.4763 - accuracy: 0.4763 - val_loss: 3.4055 - val_sparse_categorical_accuracy: 0.2385 - val_accuracy: 0.2385\n",
      "Epoch 13/30\n",
      "2532/2532 - 17s - loss: 1.4456 - sparse_categorical_accuracy: 0.5253 - accuracy: 0.5253 - val_loss: 3.4511 - val_sparse_categorical_accuracy: 0.2733 - val_accuracy: 0.2733\n",
      "Epoch 14/30\n",
      "2532/2532 - 16s - loss: 1.2820 - sparse_categorical_accuracy: 0.5778 - accuracy: 0.5778 - val_loss: 3.5243 - val_sparse_categorical_accuracy: 0.2733 - val_accuracy: 0.2733\n",
      "Epoch 15/30\n",
      "2532/2532 - 17s - loss: 1.1409 - sparse_categorical_accuracy: 0.6295 - accuracy: 0.6295 - val_loss: 3.7556 - val_sparse_categorical_accuracy: 0.2686 - val_accuracy: 0.2686\n",
      "Epoch 16/30\n",
      "2532/2532 - 17s - loss: 1.0345 - sparse_categorical_accuracy: 0.6639 - accuracy: 0.6639 - val_loss: 3.8618 - val_sparse_categorical_accuracy: 0.2686 - val_accuracy: 0.2686\n",
      "Epoch 17/30\n",
      "2532/2532 - 17s - loss: 0.9417 - sparse_categorical_accuracy: 0.6915 - accuracy: 0.6915 - val_loss: 4.0459 - val_sparse_categorical_accuracy: 0.2717 - val_accuracy: 0.2717\n",
      "Epoch 18/30\n",
      "2532/2532 - 18s - loss: 0.8850 - sparse_categorical_accuracy: 0.7204 - accuracy: 0.7204 - val_loss: 4.4484 - val_sparse_categorical_accuracy: 0.2733 - val_accuracy: 0.2733\n"
     ]
    }
   ],
   "source": [
    "num_epochs = 30\n",
    "es_callback = tf.keras.callbacks.EarlyStopping(monitor='val_loss', patience=10)\n",
    "history = model.fit(train_padded, training_label_seq, epochs=num_epochs, callbacks=[es_callback], validation_data=(validation_padded, validation_label_seq), verbose=2, shuffle=True)"
   ]
  },
  {
   "cell_type": "code",
   "execution_count": 16,
   "metadata": {},
   "outputs": [
    {
     "data": {
      "image/png": "[encoded data removed]",
      "text/plain": [
       "<Figure size 432x288 with 1 Axes>"
      ]
     },
     "metadata": {
      "needs_background": "light"
     },
     "output_type": "display_data"
    },
    {
     "data": {
      "image/png": "[encoded data removed]",
      "text/plain": [
       "<Figure size 432x288 with 1 Axes>"
      ]
     },
     "metadata": {
      "needs_background": "light"
     },
     "output_type": "display_data"
    },
    {
     "data": {
      "image/png": "[encoded data removed]",
      "text/plain": [
       "<Figure size 432x288 with 1 Axes>"
      ]
     },
     "metadata": {
      "needs_background": "light"
     },
     "output_type": "display_data"
    }
   ],
   "source": [
    "import matplotlib.pyplot as plt\n",
    "\n",
    "def plot_graphs(history, string):\n",
    "    plt.plot(history.history[string])\n",
    "    plt.plot(history.history['val_'+string])\n",
    "    plt.xlabel(\"Epochs\")\n",
    "    plt.ylabel(string)\n",
    "    plt.legend([string, 'val_'+string])\n",
    "    plt.show()\n",
    "    \n",
    "plot_graphs(history, \"sparse_categorical_accuracy\")\n",
    "plot_graphs(history, \"accuracy\")\n",
    "plot_graphs(history, \"loss\")"
   ]
  },
  {
   "cell_type": "code",
   "execution_count": null,
   "metadata": {},
   "outputs": [],
   "source": []
  }
 ],
 "metadata": {
  "kernelspec": {
   "display_name": "Python 3 (ipykernel)",
   "language": "python",
   "name": "python3"
  },
  "language_info": {
   "codemirror_mode": {
    "name": "ipython",
    "version": 3
   },
   "file_extension": ".py",
   "mimetype": "text/x-python",
   "name": "python",
   "nbconvert_exporter": "python",
   "pygments_lexer": "ipython3",
   "version": "3.9.7"
  }
 },
 "nbformat": 4,
 "nbformat_minor": 4
}
